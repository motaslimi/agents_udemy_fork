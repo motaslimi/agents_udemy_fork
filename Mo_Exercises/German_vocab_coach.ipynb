{
 "cells": [
  {
   "cell_type": "code",
   "execution_count": 1,
   "metadata": {},
   "outputs": [],
   "source": [
    "from dotenv import load_dotenv\n",
    "from agents import Agent, Runner, trace, function_tool\n",
    "from openai.types.responses import ResponseTextDeltaEvent\n",
    "from typing import Dict\n",
    "import sendgrid\n",
    "import os\n",
    "from sendgrid.helpers.mail import Mail, Email, To, Content\n",
    "import asyncio\n",
    "from IPython.display import Markdown, display\n",
    "import gradio as gr"
   ]
  },
  {
   "cell_type": "code",
   "execution_count": 2,
   "metadata": {},
   "outputs": [
    {
     "data": {
      "text/plain": [
       "True"
      ]
     },
     "execution_count": 2,
     "metadata": {},
     "output_type": "execute_result"
    }
   ],
   "source": [
    "load_dotenv(override=True)"
   ]
  },
  {
   "cell_type": "code",
   "execution_count": 49,
   "metadata": {},
   "outputs": [],
   "source": [
    "import requests\n",
    "from bs4 import BeautifulSoup\n",
    "\n",
    "def get_top_news(url=\"https://www.tagesschau.de/\"):\n",
    "    headers = {\n",
    "        \"User-Agent\": \"Mozilla/5.0\"\n",
    "    }\n",
    "    response = requests.get(url, headers=headers)\n",
    "    response.raise_for_status()\n",
    "\n",
    "    soup = BeautifulSoup(response.text, \"html.parser\")\n",
    "\n",
    "    # Find the main news section\n",
    "    articles = soup.select(\"a.teaser__link\")[:3]  # Select top 3 teaser links\n",
    "\n",
    "    news = []\n",
    "    for article in articles:\n",
    "        title = article.get_text(strip=True)\n",
    "        news.append({\"title\": title})\n",
    "\n",
    "    return news\n"
   ]
  },
  {
   "cell_type": "code",
   "execution_count": 50,
   "metadata": {},
   "outputs": [
    {
     "name": "stdout",
     "output_type": "stream",
     "text": [
      "1. faqBundesverwaltungsgerichtWorum es bei der Entscheidung über Compact gehtDas Bundesinnenministerium will das rechtsextreme Compact-Magazin verbieten. Doch ein erster Anlauf scheiterte 2024. Nun soll das Bundesverwaltungsgericht entscheiden. Ein Urteil könnte noch in dieser Woche fallen.mehr\n",
      "2. Erste GruppeUkraine und Russland tauschenKriegsgefangeneausNach tagelanger Verzögerung haben die Ukraine und Russland eine erste Gruppe Kriegsgefangener ausgetauscht. Doch auch die schweren Angriffe gehen weiter: Die Ukraine meldete einen massiven nächtlichen  Drohnenangriff Russlands.mehr\n",
      "3. ReportageGeflohen aus MariupolZwischen Heimweh und HoffnungBis zum russischen Angriff auf die Ukraine betrieb Wjatscheslaw Dolschenko in Mariupol ein Museum. Doch nun ist alles zerstört. Er selbst musste fliehen - und hofft darauf, eines Tages zurückkehren zu können.Von A. Beer und E. Samowilowa.mehr\n"
     ]
    }
   ],
   "source": [
    "top_news = get_top_news()\n",
    "for i, item in enumerate(top_news, 1):\n",
    "    print(f\"{i}. {item['title']}\")"
   ]
  },
  {
   "cell_type": "markdown",
   "metadata": {},
   "source": [
    "## Tool 1"
   ]
  },
  {
   "cell_type": "code",
   "execution_count": 3,
   "metadata": {},
   "outputs": [],
   "source": [
    "instructions_news_finder = \"summarize 3 news that was reported in 2024 Germany in German Language. \\\n",
    "    The news can be old. \\\n",
    "    The language must be German,\\\n",
    "    Summurize each in 3 short sentences.\\\n",
    "    return the date of news\\\n",
    "    only return 3 markdown item. No explanation in the begining or the end.\""
   ]
  },
  {
   "cell_type": "code",
   "execution_count": 4,
   "metadata": {},
   "outputs": [],
   "source": [
    "agent_news_finder = Agent(name=\"News Finder Agent\" , instructions=instructions_news_finder, model=\"gpt-4o-mini\")"
   ]
  },
  {
   "cell_type": "code",
   "execution_count": 5,
   "metadata": {},
   "outputs": [],
   "source": [
    "tool_news_finder = agent_news_finder.as_tool(tool_name=\"News_finder_tool\", tool_description=\"find 5 german news in 2024.\")"
   ]
  },
  {
   "cell_type": "markdown",
   "metadata": {},
   "source": [
    "## Tool 2"
   ]
  },
  {
   "cell_type": "code",
   "execution_count": 6,
   "metadata": {},
   "outputs": [],
   "source": [
    "instructions_word_finder = \"\"\"You are a German Language instructor who reads 3 short news in German and finds 4 most difficult German words.\\\n",
    "    you are given 3 short news in German.\n",
    "    as output, return 4 most advanced words of each news in German without English translation.\\\n",
    "    return 3 markdown items for each news and list the 4 words that you find below each item. \n",
    "    The output must contain 12 German words.\n",
    "    No explanation in the begining or the end.\n",
    "    \"\"\""
   ]
  },
  {
   "cell_type": "code",
   "execution_count": 7,
   "metadata": {},
   "outputs": [],
   "source": [
    "agent_word_finder = Agent(name=\"Word Finder Agent\", \n",
    "                          instructions=instructions_word_finder, \n",
    "                          model=\"gpt-4o-mini\",\n",
    "                          tools=[tool_news_finder])"
   ]
  },
  {
   "cell_type": "code",
   "execution_count": 24,
   "metadata": {},
   "outputs": [],
   "source": [
    "tool_word_finder = agent_word_finder.as_tool(tool_name=\"word_finder_tool\", tool_description=\"find 5 advanced word of each news\")"
   ]
  },
  {
   "cell_type": "markdown",
   "metadata": {},
   "source": [
    "# Tool 3"
   ]
  },
  {
   "cell_type": "code",
   "execution_count": 29,
   "metadata": {},
   "outputs": [],
   "source": [
    "instructions_german_to_english = \"\"\"\n",
    "You are a German Language instructor who translates 4 most difficult German words to English for each news.\\\n",
    "    you are given 3 short news in German and 4 most difficult German words for each news.\\\n",
    "    as output, return 3 markdown items for each news. \\\n",
    "    each item must contain the short news, date, and 4 Gertman words with their article (der, die, das) and einglish translation and explanation of the word in the context of the news.\\\n",
    "    return the article in parnthesis after the word and before the translation\n",
    "    only return the article for the nouns not for the verbs and not adjectives\\\n",
    "    No explanation in the begining or the end.\n",
    "    \"\"\""
   ]
  },
  {
   "cell_type": "code",
   "execution_count": 30,
   "metadata": {},
   "outputs": [],
   "source": [
    "agent_german_to_english = Agent(name=\"German to English Translator\", instructions=instructions_german_to_english, model=\"gpt-4o-mini\")"
   ]
  },
  {
   "cell_type": "code",
   "execution_count": 31,
   "metadata": {},
   "outputs": [],
   "source": [
    "tool_german_to_english = agent_german_to_english.as_tool(tool_name=\"german_to_english_tool\", \n",
    "                                                         tool_description=\"translate 5 most difficult German words for each news\")"
   ]
  },
  {
   "cell_type": "markdown",
   "metadata": {},
   "source": [
    "## Final Agent"
   ]
  },
  {
   "cell_type": "code",
   "execution_count": 32,
   "metadata": {},
   "outputs": [],
   "source": [
    "instructions_german_instructor = \"\"\"You are a German Language instructor who reads 3 short news in German and translates 4 most difficult German words for each news.\\\n",
    "    The 3 short news are given to you using the \"News_finder_tool\" tool\\\n",
    "    the 4 most difficult words are given to you using the \"word_finder_tool\" tool\\\n",
    "    The meaning and explanation of the word is given to you using the \"german_to_english_tool\" tool\\\n",
    "    only use the tools to access input news and words\\\n",
    "    as output, return 3 markdown items for each news. \\\n",
    "    each item must contain the short news, date, and 4 Gertman words with their article (der, die, das) and einglish translation and explanation of the word in the context of the news.\\\n",
    "    return the article in parnthesis after the word and before the translation\n",
    "    only return the article for the nouns not for the verbs and not adjectives\\\n",
    "    No explanation in the begining or the end.\n",
    "    \"\"\""
   ]
  },
  {
   "cell_type": "code",
   "execution_count": 33,
   "metadata": {},
   "outputs": [],
   "source": [
    "agent_german_instructor = Agent(name=\"German Instructor Agent\", \n",
    "                                instructions=instructions_german_instructor, \n",
    "                                model=\"gpt-4o-mini\",\n",
    "                                tools=[tool_news_finder, tool_word_finder])"
   ]
  },
  {
   "cell_type": "code",
   "execution_count": 34,
   "metadata": {},
   "outputs": [
    {
     "data": {
      "text/markdown": [
       "### 1. News vom 15. Januar 2024\n",
       "Die deutsche Regierung hat ein neues Gesetz zur Förderung der erneuerbaren Energien verabschiedet. Ziel ist es, die Abhängigkeit von fossilen Brennstoffen bis 2030 um 50% zu reduzieren. Kritiker warnen jedoch vor hohen Kosten für die Verbraucher.\n",
       "- **Abhängigkeit** (die) - dependency; refers to the reliance on certain energy sources.\n",
       "- **fossile** (die) - fossil; describes fuels that are derived from the earth, highlighting their environmental impact.\n",
       "- **Brennstoffe** (die) - fuels; refers specifically to energy sources used in generation.\n",
       "- **Verbraucher** (der) - consumer; relates to individuals who utilize energy and are affected by costs.\n",
       "\n",
       "### 2. News vom 22. Februar 2024\n",
       "Die Bundesregierung kündigt ein neues Programm zur Bekämpfung der Wohnungsnot an. Es sollen günstige Mietwohnungen in städtischen Gebieten gebaut und subventioniert werden. Dies wird als wichtiger Schritt zur Verbesserung der Lebensqualität in Städten gesehen.\n",
       "- **Wohnungsnot** (die) - housing shortage; indicates the lack of affordable living spaces.\n",
       "- **Mietwohnungen** (die) - rental apartments; refers to available living spaces for rent.\n",
       "- **subventioniert** (die) - subsidized; describes financial assistance to promote affordable housing.\n",
       "- **Lebensqualität** (die) - quality of life; highlights the improvement in living conditions.\n",
       "\n",
       "### 3. News vom 10. April 2024\n",
       "Die Debatte um die Digitalisierung in Schulen nimmt an Fahrt auf. Experten fordern schnellere Investitionen in digitale Infrastruktur und Schulungen für Lehrkräfte. Das Ziel ist, den Schülern moderne Kompetenzen für die Zukunft zu vermitteln.\n",
       "- **Digitalisierung** (die) - digitalization; relates to integrating digital technologies in education.\n",
       "- **Infrastruktur** (die) - infrastructure; refers to the foundational systems needed for effective digital implementation.\n",
       "- **Schulungen** (die) - training; describes the education and preparation for teachers in digital methods.\n",
       "- **Kompetenzen** (die) - competencies; designates the skills students should develop in a modern learning environment."
      ],
      "text/plain": [
       "<IPython.core.display.Markdown object>"
      ]
     },
     "metadata": {},
     "output_type": "display_data"
    }
   ],
   "source": [
    "with trace(\"German Instructor\"):\n",
    "    result = await Runner.run(agent_german_instructor, \"Translate 5 most difficult words\")\n",
    "    display(Markdown(result.final_output)) "
   ]
  },
  {
   "cell_type": "code",
   "execution_count": 18,
   "metadata": {},
   "outputs": [],
   "source": [
    "def run():\n",
    "    return result.final_output "
   ]
  },
  {
   "cell_type": "code",
   "execution_count": 19,
   "metadata": {},
   "outputs": [
    {
     "name": "stdout",
     "output_type": "stream",
     "text": [
      "* Running on local URL:  http://127.0.0.1:7860\n",
      "* To create a public link, set `share=True` in `launch()`.\n"
     ]
    },
    {
     "data": {
      "text/html": [
       "<div><iframe src=\"http://127.0.0.1:7860/\" width=\"100%\" height=\"500\" allow=\"autoplay; camera; microphone; clipboard-read; clipboard-write;\" frameborder=\"0\" allowfullscreen></iframe></div>"
      ],
      "text/plain": [
       "<IPython.core.display.HTML object>"
      ]
     },
     "metadata": {},
     "output_type": "display_data"
    },
    {
     "data": {
      "text/plain": []
     },
     "execution_count": 19,
     "metadata": {},
     "output_type": "execute_result"
    },
    {
     "name": "stderr",
     "output_type": "stream",
     "text": [
      "gio: http://127.0.0.1:7860/: Operation not supported\n"
     ]
    }
   ],
   "source": [
    "with gr.Blocks(theme=gr.themes.Default(primary_hue=\"sky\")) as ui:\n",
    "    gr.Markdown(\"# Learn German with News!\")\n",
    "    # query_textbox = gr.Textbox(label=\"What topic would you like to research?\")\n",
    "    run_button = gr.Button(\"Display 3 short news with 4 most difficult words!\", variant=\"primary\")\n",
    "    report = gr.Markdown(label=\"Report\")\n",
    "    run_button.click(fn=run, outputs=report)\n",
    "\n",
    "ui.launch(inbrowser=True)"
   ]
  },
  {
   "cell_type": "code",
   "execution_count": null,
   "metadata": {},
   "outputs": [],
   "source": []
  }
 ],
 "metadata": {
  "kernelspec": {
   "display_name": ".venv",
   "language": "python",
   "name": "python3"
  },
  "language_info": {
   "codemirror_mode": {
    "name": "ipython",
    "version": 3
   },
   "file_extension": ".py",
   "mimetype": "text/x-python",
   "name": "python",
   "nbconvert_exporter": "python",
   "pygments_lexer": "ipython3",
   "version": "3.12.10"
  }
 },
 "nbformat": 4,
 "nbformat_minor": 2
}
