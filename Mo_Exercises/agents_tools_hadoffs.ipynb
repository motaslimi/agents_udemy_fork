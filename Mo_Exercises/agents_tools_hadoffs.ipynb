{
 "cells": [
  {
   "cell_type": "code",
   "execution_count": 9,
   "metadata": {},
   "outputs": [],
   "source": [
    "from dotenv import load_dotenv\n",
    "from agents import Agent, Runner, trace, function_tool\n",
    "from openai.types.responses import ResponseTextDeltaEvent\n",
    "from typing import Dict\n",
    "import sendgrid\n",
    "import os\n",
    "from sendgrid.helpers.mail import Mail, Email, To, Content\n",
    "import asyncio"
   ]
  },
  {
   "cell_type": "code",
   "execution_count": 10,
   "metadata": {},
   "outputs": [
    {
     "data": {
      "text/plain": [
       "True"
      ]
     },
     "execution_count": 10,
     "metadata": {},
     "output_type": "execute_result"
    }
   ],
   "source": [
    "load_dotenv(override=True)"
   ]
  },
  {
   "cell_type": "code",
   "execution_count": 3,
   "metadata": {},
   "outputs": [],
   "source": [
    "# Define 3 instructions (to be used for agents)\n",
    "instructions_formal = \"You are a sales agent working for ComplAI, \\\n",
    "a company that provides a SaaS tool for ensuring SOC2 compliance and preparing for audits, powered by AI. \\\n",
    "You write professional, serious cold emails.\"\n",
    "\n",
    "instructions_cool = \"You are a humorous, engaging sales agent working for ComplAI, \\\n",
    "a company that provides a SaaS tool for ensuring SOC2 compliance and preparing for audits, powered by AI. \\\n",
    "You write witty, engaging cold emails that are likely to get a response.\"\n",
    "\n",
    "instructions_concise = \"You are a busy sales agent working for ComplAI, \\\n",
    "a company that provides a SaaS tool for ensuring SOC2 compliance and preparing for audits, powered by AI. \\\n",
    "You write concise, to the point cold emails.\"\n",
    "\n"
   ]
  },
  {
   "cell_type": "code",
   "execution_count": 5,
   "metadata": {},
   "outputs": [],
   "source": [
    "# Define 3 agents from the above instructions\n",
    "agent_formal = Agent(name= \"Formal_Agent\", instructions=instructions_formal, model=\"gpt-4o-mini\")\n",
    "agent_cool = Agent(name= \"Cool_Agent\", instructions=instructions_cool, model=\"gpt-4o-mini\")\n",
    "agent_concise = Agent(name= \"Concise_Agent\", instructions=instructions_concise, model=\"gpt-4o-mini\")\n"
   ]
  },
  {
   "cell_type": "code",
   "execution_count": 8,
   "metadata": {},
   "outputs": [],
   "source": [
    "# Define 3 tools from the above agents\n",
    "tool_description_formal = \"Write a professional, serious cold sales email.\"\n",
    "tool_formal = agent_formal.as_tool(tool_name=\"Formal_Tool\", tool_description=tool_description_formal)\n",
    "\n",
    "tool_description_cool = \"Write a witty, engaging cold sales email.\"\n",
    "tool_cool = agent_cool.as_tool(tool_name=\"Cool_Tool\", tool_description=tool_description_cool)\n",
    "\n",
    "tool_description_concise = \"Write a concise, to the point cold sales email.\"\n",
    "tool_concise = agent_concise.as_tool(tool_name=\"Concise_Tool\", tool_description=tool_description_concise)\n",
    "\n"
   ]
  },
  {
   "cell_type": "markdown",
   "metadata": {},
   "source": [
    "#### Handoff\n",
    "Handoff is an agent with an additional \"handoff_description\" congif.\n",
    "\n",
    "This handoff will do three things (using three tools):\n",
    "- generates a subject\n",
    "- converts the email to html format\n",
    "- sends the email using SendGrid"
   ]
  },
  {
   "cell_type": "code",
   "execution_count": 16,
   "metadata": {},
   "outputs": [],
   "source": [
    "# Define a tool to generate a subject\n",
    "\n",
    "subject_writer_instruction = \"You can write a subject for a cold sales email. \\\n",
    "You are given a message and you need to write a subject for an email that is likely to get a response. \"\n",
    "subject_writer_agent = Agent(name=\"subject_writer_agent\",\n",
    "                             instructions= subject_writer_instruction,\n",
    "                             model= \"gpt-4o-mini\")\n",
    "subject_writer_tool_description = \"Write a subject for a cold sales email\"\n",
    "subject_writer_tool = subject_writer_agent.as_tool(tool_name=\"subject_writer_tool\", tool_description=subject_writer_tool_description)\n"
   ]
  },
  {
   "cell_type": "code",
   "execution_count": 17,
   "metadata": {},
   "outputs": [],
   "source": [
    "# Define a tool to convert the email to html format\n",
    "html_converter_instruction = \"You can convert a text email body to an HTML email body. \\\n",
    "You are given a text email body which might have some markdown \\\n",
    "and you need to convert it to an HTML email body with simple, clear, compelling layout and design.\"\n",
    "html_convertor_agent = Agent(name=\"html_convertor_agent\",)\n",
    "html_convertor_tool_description = \"Convert a text email body to an HTML email body\"\n",
    "html_convertor_tool = html_convertor_agent.as_tool(tool_name=\"html_convertor_tool\", tool_description=html_convertor_tool_description)"
   ]
  },
  {
   "cell_type": "code",
   "execution_count": 66,
   "metadata": {},
   "outputs": [],
   "source": [
    "# Define a send_email_tool tool using the decorator\n",
    "\n",
    "@function_tool\n",
    "def send_email_tool(subject: str, html_body: str) -> Dict[str, str]:\n",
    "    sg = sendgrid.SendGridAPIClient(api_key=os.environ.get('SENDGRID_API_KEY'))\n",
    "    from_email = Email(\"motaslimi@leibnizrule.com\")\n",
    "    to_email = To(email=\"motaslimi@gmail.com\")\n",
    "    content = Content(\"text/html\", html_body)\n",
    "    mail = Mail(from_email, to_email, \"Sales email\", content).get()\n",
    "    response = sg.client.mail.send.post(request_body=mail)\n",
    "    return {\"status\": \"success\"}"
   ]
  },
  {
   "cell_type": "code",
   "execution_count": 67,
   "metadata": {},
   "outputs": [],
   "source": [
    "handoff_tools = [subject_writer_tool, html_convertor_tool, send_email_tool]"
   ]
  },
  {
   "cell_type": "code",
   "execution_count": 68,
   "metadata": {},
   "outputs": [],
   "source": [
    "handoff_instruction = \"You are an email formatter and sender. You receive the body of an email to be sent. \\\n",
    "You first use the subject_writer_tool tool to write a subject for the email, then use the html_convertor_tool tool to convert the body to HTML. \\\n",
    "Finally, you use the send_email_tool tool to send the email with the subject and HTML body.\""
   ]
  },
  {
   "cell_type": "code",
   "execution_count": 69,
   "metadata": {},
   "outputs": [],
   "source": [
    "handoff_description = \"Convert an email to HTML and send it\""
   ]
  },
  {
   "cell_type": "code",
   "execution_count": 70,
   "metadata": {},
   "outputs": [],
   "source": [
    "handoff_send_email = Agent(name=\"send_email_handoff\",\n",
    "                           instructions= handoff_instruction ,\n",
    "                           model = \"gpt-4o-mini\",\n",
    "                           tools= handoff_tools,\n",
    "                           handoff_description= handoff_description\n",
    "                           )"
   ]
  },
  {
   "cell_type": "markdown",
   "metadata": {},
   "source": [
    "####Final Agent\n",
    "\n",
    "The final agent uses three tools and one handoff\n",
    "- tool_formal\n",
    "- tool_cool\n",
    "- tool_concise\n",
    "- handoff_send_email"
   ]
  },
  {
   "cell_type": "code",
   "execution_count": 71,
   "metadata": {},
   "outputs": [],
   "source": [
    "final_agent_instruction = \"You are a sales manager working for ComplAI. You use the tools given to you to generate cold sales emails. \\\n",
    "You never generate sales emails yourself; you always use the tools. \\\n",
    "You try all 3 sales agent tools at before choosing the best one. \\\n",
    "You select the single best email using your own judgement of which email will be most effective. \\\n",
    "After picking the email, you handoff to the handoff_send_email to format and send the email.\""
   ]
  },
  {
   "cell_type": "code",
   "execution_count": 72,
   "metadata": {},
   "outputs": [],
   "source": [
    "final_agent_tools = [tool_formal, tool_cool, tool_concise]"
   ]
  },
  {
   "cell_type": "code",
   "execution_count": 73,
   "metadata": {},
   "outputs": [],
   "source": [
    "final_agent = Agent(name=\"Cold Email Sales Manager\",\n",
    "                         instructions=final_agent_instruction,\n",
    "                         tools= final_agent_tools,\n",
    "                         model=\"gpt-4o-mini\",\n",
    "                         handoffs=[handoff_send_email])"
   ]
  },
  {
   "cell_type": "code",
   "execution_count": 74,
   "metadata": {},
   "outputs": [],
   "source": [
    "message = \"Send out a cold sales email addressed to Dear CEO from Alice\"\n",
    "\n",
    "with trace(\"Cold Sales Email Sender Agent\"):\n",
    "    result = await Runner.run(final_agent, message)\n"
   ]
  }
 ],
 "metadata": {
  "kernelspec": {
   "display_name": ".venv",
   "language": "python",
   "name": "python3"
  },
  "language_info": {
   "codemirror_mode": {
    "name": "ipython",
    "version": 3
   },
   "file_extension": ".py",
   "mimetype": "text/x-python",
   "name": "python",
   "nbconvert_exporter": "python",
   "pygments_lexer": "ipython3",
   "version": "3.12.10"
  }
 },
 "nbformat": 4,
 "nbformat_minor": 2
}
